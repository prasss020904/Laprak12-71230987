{
 "cells": [
  {
   "cell_type": "code",
   "execution_count": 1,
   "id": "148a0a8b",
   "metadata": {},
   "outputs": [
    {
     "name": "stdout",
     "output_type": "stream",
     "text": [
      "True\n"
     ]
    }
   ],
   "source": [
    "tA = (90, 90, 90, 90)\n",
    "for i in range(len(tA)):\n",
    "    if tA[i] == tA[0]:\n",
    "        sama = True\n",
    "    else:\n",
    "        sama = False\n",
    "print(sama)"
   ]
  },
  {
   "cell_type": "code",
   "execution_count": 2,
   "id": "cb5319f5",
   "metadata": {},
   "outputs": [
    {
     "name": "stdout",
     "output_type": "stream",
     "text": [
      "Data:  ('Matahari Bhakti Nendya', '22064091', 'Bantul, DI Yogyakarta')\n",
      "NIM : 22064091\n",
      "NAMA : Matahari Bhakti Nendya\n",
      "ALAMAT : Bantul, DI Yogyakarta\n",
      "NIM: ('2', '2', '0', '6', '4', '0', '9', '1')\n",
      "NAMA DEPAN: ('a', 't', 'a', 'h', 'a', 'r', 'i')\n",
      "NAMA TERBALIK: ('Nendya', 'Bhakti', 'Matahari')\n"
     ]
    }
   ],
   "source": [
    "nama = 'Matahari Bhakti Nendya'\n",
    "nim = '22064091'\n",
    "alamat = 'Bantul, DI Yogyakarta'\n",
    "print(\"Data: \", (nama, nim, alamat))\n",
    "print(\"NIM :\", nim)\n",
    "print(\"NAMA :\", nama)\n",
    "print(\"ALAMAT :\", alamat)\n",
    "nim = tuple(nim)\n",
    "namadepan = tuple(nama.split()[0])\n",
    "namaterbalik = tuple(nama.split()[::-1])\n",
    "print(\"NIM:\", nim)\n",
    "print(\"NAMA DEPAN:\", namadepan[1:])\n",
    "print(\"NAMA TERBALIK:\", namaterbalik)"
   ]
  },
  {
   "cell_type": "code",
   "execution_count": null,
   "id": "07cc80ee",
   "metadata": {},
   "outputs": [],
   "source": [
    "namafile= input(\"Masukkan nama file: \")\n",
    "file = open(namafile, 'r')\n",
    "baca_baris = file.readlines()\n",
    "file.close()\n",
    "dict = {}\n",
    "for line in baca_baris:\n",
    "    if line.startswith(\"From\") and line.endswith(\"2008\\n\"):\n",
    "        jam = line.split()[5].split(\":\")[0]\n",
    "        dict[jam] = dict.get(jam, 0) + 1\n",
    "for key, val in sorted(dict.items()):\n",
    "    print(key, val)"
   ]
  }
 ],
 "metadata": {
  "kernelspec": {
   "display_name": "Python 3 (ipykernel)",
   "language": "python",
   "name": "python3"
  },
  "language_info": {
   "codemirror_mode": {
    "name": "ipython",
    "version": 3
   },
   "file_extension": ".py",
   "mimetype": "text/x-python",
   "name": "python",
   "nbconvert_exporter": "python",
   "pygments_lexer": "ipython3",
   "version": "3.11.5"
  }
 },
 "nbformat": 4,
 "nbformat_minor": 5
}
